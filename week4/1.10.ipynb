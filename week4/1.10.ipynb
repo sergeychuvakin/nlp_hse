{
 "cells": [
  {
   "cell_type": "markdown",
   "metadata": {},
   "source": [
    "### POS tagging"
   ]
  },
  {
   "cell_type": "markdown",
   "metadata": {},
   "source": [
    "- CC coordinating conjunction\n",
    "- CD cardinal digit\n",
    "- DT determiner\n",
    "- EX existential there (like: “there is” … think of it like “there exists”)\n",
    "- FW foreign word\n",
    "- IN preposition/subordinating conjunction\n",
    "- JJ adjective ‘big’\n",
    "- JJR adjective, comparative ‘bigger’\n",
    "- JJS adjective, superlative ‘biggest’\n",
    "- LS list marker 1)\n",
    "- MD modal could, will\n",
    "- NN noun, singular ‘desk’\n",
    "- NNS noun plural ‘desks’\n",
    "- NNP proper noun, singular ‘Harrison’\n",
    "- NNPS proper noun, plural ‘Americans’\n",
    "- PDT predeterminer ‘all the kids’\n",
    "- POS possessive ending parent’s\n",
    "- PRP personal pronoun I, he, she\n",
    "- PRP\\$ possessive pronoun my, his, hers\n",
    "- RB adverb very, silently,\n",
    "- RBR adverb, comparative better\n",
    "- RBS adverb, superlative best\n",
    "- RP particle give up\n",
    "- TO, to go ‘to’ the store.\n",
    "- UH interjection, errrrrrrrm\n",
    "- VB verb, base form take\n",
    "- VBD verb, past tense took\n",
    "- VBG verb, gerund/present participle taking\n",
    "- VBN verb, past participle taken\n",
    "- VBP verb, sing. present, non-3d take\n",
    "- VBZ verb, 3rd person sing. present takes\n",
    "- WDT wh-determiner which\n",
    "- WP wh-pronoun who, what\n",
    "- WP\\$ possessive wh-pronoun whose\n",
    "- WRB wh-abverb where, when"
   ]
  },
  {
   "cell_type": "code",
   "execution_count": 13,
   "metadata": {},
   "outputs": [],
   "source": [
    "import nltk"
   ]
  },
  {
   "cell_type": "code",
   "execution_count": 14,
   "metadata": {},
   "outputs": [],
   "source": [
    "text = 'Better way to execute ruby file using Python and How to get ruby console output when ruby file is run from python?' "
   ]
  },
  {
   "cell_type": "code",
   "execution_count": 16,
   "metadata": {},
   "outputs": [
    {
     "data": {
      "text/plain": [
       "[('Better', 'RBR'),\n",
       " ('way', 'NN'),\n",
       " ('to', 'TO'),\n",
       " ('execute', 'VB'),\n",
       " ('ruby', 'NN'),\n",
       " ('file', 'NN'),\n",
       " ('using', 'VBG'),\n",
       " ('Python', 'NNP'),\n",
       " ('and', 'CC'),\n",
       " ('How', 'NNP'),\n",
       " ('to', 'TO'),\n",
       " ('get', 'VB'),\n",
       " ('ruby', 'JJ'),\n",
       " ('console', 'NN'),\n",
       " ('output', 'NN'),\n",
       " ('when', 'WRB'),\n",
       " ('ruby', 'NN'),\n",
       " ('file', 'NN'),\n",
       " ('is', 'VBZ'),\n",
       " ('run', 'VBN'),\n",
       " ('from', 'IN'),\n",
       " ('python', 'NN'),\n",
       " ('?', '.')]"
      ]
     },
     "execution_count": 16,
     "metadata": {},
     "output_type": "execute_result"
    }
   ],
   "source": [
    "nltk.pos_tag(nltk.word_tokenize(text))"
   ]
  },
  {
   "cell_type": "markdown",
   "metadata": {},
   "source": [
    "### [Pymorphy2](https://pymorphy2.readthedocs.io/en/latest/)\n",
    "---\n",
    "основан на [OpenCorpora](http://opencorpora.org/)"
   ]
  },
  {
   "cell_type": "code",
   "execution_count": 21,
   "metadata": {},
   "outputs": [],
   "source": [
    "import pymorphy2\n",
    "morph = pymorphy2.MorphAnalyzer()"
   ]
  },
  {
   "cell_type": "code",
   "execution_count": 22,
   "metadata": {},
   "outputs": [],
   "source": [
    "text = 'Остановите этот звук! Дайте мне ответить на него!.'"
   ]
  },
  {
   "cell_type": "code",
   "execution_count": 24,
   "metadata": {},
   "outputs": [
    {
     "name": "stdout",
     "output_type": "stream",
     "text": [
      "[Parse(word='остановите', tag=OpencorporaTag('VERB,perf,tran plur,2per,futr,indc'), normal_form='остановить', score=0.5, methods_stack=((<DictionaryAnalyzer>, 'остановите', 647, 8),)), Parse(word='остановите', tag=OpencorporaTag('VERB,perf,tran plur,impr,excl'), normal_form='остановить', score=0.5, methods_stack=((<DictionaryAnalyzer>, 'остановите', 647, 14),))]\n",
      "[Parse(word='этот', tag=OpencorporaTag('ADJF,Apro,Subx,Anph inan,masc,sing,accs'), normal_form='этот', score=0.581818, methods_stack=((<DictionaryAnalyzer>, 'этот', 3099, 3),)), Parse(word='этот', tag=OpencorporaTag('ADJF,Apro,Subx,Anph masc,sing,nomn'), normal_form='этот', score=0.418181, methods_stack=((<DictionaryAnalyzer>, 'этот', 3099, 0),))]\n",
      "[Parse(word='звук!', tag=OpencorporaTag('UNKN'), normal_form='звук!', score=1.0, methods_stack=((<UnknAnalyzer>, 'звук!'),))]\n",
      "[Parse(word='дайте', tag=OpencorporaTag('VERB,perf,tran plur,impr,excl'), normal_form='дать', score=1.0, methods_stack=((<DictionaryAnalyzer>, 'дайте', 843, 14),))]\n",
      "[Parse(word='мне', tag=OpencorporaTag('NPRO,1per sing,datv'), normal_form='я', score=0.666666, methods_stack=((<DictionaryAnalyzer>, 'мне', 3100, 2),)), Parse(word='мне', tag=OpencorporaTag('NPRO,1per sing,loct'), normal_form='я', score=0.333333, methods_stack=((<DictionaryAnalyzer>, 'мне', 3100, 6),))]\n",
      "[Parse(word='ответить', tag=OpencorporaTag('INFN,perf,intr'), normal_form='ответить', score=1.0, methods_stack=((<DictionaryAnalyzer>, 'ответить', 2245, 0),))]\n",
      "[Parse(word='на', tag=OpencorporaTag('PREP'), normal_form='на', score=0.99931, methods_stack=((<DictionaryAnalyzer>, 'на', 24, 0),)), Parse(word='на', tag=OpencorporaTag('PRCL'), normal_form='на', score=0.000477, methods_stack=((<DictionaryAnalyzer>, 'на', 22, 0),)), Parse(word='на', tag=OpencorporaTag('INTJ'), normal_form='на', score=0.000212, methods_stack=((<DictionaryAnalyzer>, 'на', 21, 0),))]\n",
      "[Parse(word='него!.', tag=OpencorporaTag('UNKN'), normal_form='него!.', score=1.0, methods_stack=((<UnknAnalyzer>, 'го!.'), (<KnownPrefixAnalyzer>, 'не')))]\n"
     ]
    }
   ],
   "source": [
    "for i in text.split():\n",
    "    print(morph.parse(i))"
   ]
  },
  {
   "cell_type": "code",
   "execution_count": 31,
   "metadata": {},
   "outputs": [
    {
     "data": {
      "text/plain": [
       "OpencorporaTag('VERB,perf,tran plur,2per,futr,indc')"
      ]
     },
     "execution_count": 31,
     "metadata": {},
     "output_type": "execute_result"
    }
   ],
   "source": [
    "morph.parse('остановите')[0].tag"
   ]
  },
  {
   "cell_type": "code",
   "execution_count": null,
   "metadata": {},
   "outputs": [],
   "source": [
    "morph.parse('бутявковедами')"
   ]
  },
  {
   "cell_type": "markdown",
   "metadata": {},
   "source": [
    "<pre>\n",
    ">>> p.tag\n",
    "OpencorporaTag('VERB,perf,intr plur,past,indc')\n",
    ">>> p.tag.POS           # Part of Speech, часть речи\n",
    "'VERB'\n",
    ">>> p.tag.animacy       # одушевленность\n",
    "None\n",
    ">>> p.tag.aspect        # вид: совершенный или несовершенный\n",
    "'perf'\n",
    ">>> p.tag.case          # падеж\n",
    "None\n",
    ">>> p.tag.gender        # род (мужской, женский, средний)\n",
    "None\n",
    ">>> p.tag.involvement   # включенность говорящего в действие\n",
    "None\n",
    ">>> p.tag.mood          # наклонение (повелительное, изъявительное)\n",
    "'indc'\n",
    ">>> p.tag.number        # число (единственное, множественное)\n",
    "'plur'\n",
    ">>> p.tag.person        # лицо (1, 2, 3)\n",
    "None\n",
    ">>> p.tag.tense         # время (настоящее, прошедшее, будущее)\n",
    "'past'\n",
    ">>> p.tag.transitivity  # переходность (переходный, непереходный)\n",
    "'intr'\n",
    ">>> p.tag.voice         # залог (действительный, страдательный)\n",
    "None</pre>"
   ]
  },
  {
   "cell_type": "markdown",
   "metadata": {},
   "source": [
    "### MyStem"
   ]
  },
  {
   "cell_type": "code",
   "execution_count": 34,
   "metadata": {},
   "outputs": [],
   "source": [
    "import json\n",
    "from pymystem3 import Mystem\n",
    "\n",
    "text = \"Прушевский не мог отойти от покойной.\"\n",
    "m = Mystem()\n",
    "lemmas = m.lemmatize(text)"
   ]
  },
  {
   "cell_type": "code",
   "execution_count": 35,
   "metadata": {},
   "outputs": [
    {
     "data": {
      "text/plain": [
       "['прушевский',\n",
       " ' ',\n",
       " 'не',\n",
       " ' ',\n",
       " 'мочь',\n",
       " ' ',\n",
       " 'отходить',\n",
       " ' ',\n",
       " 'от',\n",
       " ' ',\n",
       " 'покойный',\n",
       " '.',\n",
       " '\\n']"
      ]
     },
     "execution_count": 35,
     "metadata": {},
     "output_type": "execute_result"
    }
   ],
   "source": [
    "lemmas"
   ]
  },
  {
   "cell_type": "code",
   "execution_count": 44,
   "metadata": {},
   "outputs": [
    {
     "data": {
      "text/plain": [
       "{'analysis': [{'lex': 'прушевский',\n",
       "   'wt': 0.8225934368,\n",
       "   'qual': 'bastard',\n",
       "   'gr': 'S,фам,муж,од=им,ед'}],\n",
       " 'text': 'Прушевский'}"
      ]
     },
     "execution_count": 44,
     "metadata": {},
     "output_type": "execute_result"
    }
   ],
   "source": [
    "m.analyze(text)[0]"
   ]
  },
  {
   "cell_type": "markdown",
   "metadata": {},
   "source": [
    "### [Chunking](http://www.nltk.org/howto/chunk.html)"
   ]
  },
  {
   "cell_type": "code",
   "execution_count": 3,
   "metadata": {},
   "outputs": [],
   "source": [
    "import nltk"
   ]
  },
  {
   "cell_type": "code",
   "execution_count": 5,
   "metadata": {},
   "outputs": [],
   "source": [
    "sentence = \"There in the train was very stuff\""
   ]
  },
  {
   "cell_type": "code",
   "execution_count": 6,
   "metadata": {},
   "outputs": [],
   "source": [
    "#Define your grammar using regular expressions\n",
    "grammar = ('''\n",
    "     NP: {<DT>?<JJ>*<NN>} \n",
    "    ''')"
   ]
  },
  {
   "cell_type": "code",
   "execution_count": 7,
   "metadata": {},
   "outputs": [
    {
     "data": {
      "text/plain": [
       "[('There', 'EX'),\n",
       " ('in', 'IN'),\n",
       " ('the', 'DT'),\n",
       " ('train', 'NN'),\n",
       " ('was', 'VBD'),\n",
       " ('very', 'RB'),\n",
       " ('stuff', 'JJ')]"
      ]
     },
     "execution_count": 7,
     "metadata": {},
     "output_type": "execute_result"
    }
   ],
   "source": [
    "chunkParser = nltk.RegexpParser(grammar)\n",
    "tagged = nltk.pos_tag(nltk.word_tokenize(sentence))\n",
    "tagged"
   ]
  },
  {
   "cell_type": "code",
   "execution_count": 8,
   "metadata": {},
   "outputs": [],
   "source": [
    "tree = chunkParser.parse(tagged)"
   ]
  },
  {
   "cell_type": "code",
   "execution_count": 9,
   "metadata": {},
   "outputs": [
    {
     "name": "stdout",
     "output_type": "stream",
     "text": [
      "1\n",
      "('There', 'EX')\n",
      "2\n",
      "('in', 'IN')\n",
      "3\n",
      "(NP the/DT train/NN)\n",
      "4\n",
      "('was', 'VBD')\n",
      "5\n",
      "('very', 'RB')\n",
      "6\n",
      "('stuff', 'JJ')\n"
     ]
    }
   ],
   "source": [
    "c = 1\n",
    "for i in tree: \n",
    "    print(c)\n",
    "    print(i)\n",
    "    c+=1"
   ]
  },
  {
   "cell_type": "code",
   "execution_count": 12,
   "metadata": {},
   "outputs": [],
   "source": [
    "tree.draw()"
   ]
  },
  {
   "cell_type": "code",
   "execution_count": null,
   "metadata": {},
   "outputs": [],
   "source": [
    "tree.draw()"
   ]
  },
  {
   "cell_type": "markdown",
   "metadata": {},
   "source": [
    "### [Speller Check](https://yandex.ru/dev/speller/doc/dg/reference/checkText-docpage/)"
   ]
  },
  {
   "cell_type": "code",
   "execution_count": 45,
   "metadata": {},
   "outputs": [],
   "source": [
    "import requests"
   ]
  },
  {
   "cell_type": "code",
   "execution_count": 48,
   "metadata": {},
   "outputs": [],
   "source": [
    "text = 'Безвестный мужик с желтыми глазами скулил в углу барака про одно и то же свое горе, только не говорил, отчего оно, а старался побольше всем угождать. Его тоскливому уму представлялась деревня во ржи, и над нею носился вееетер и тихо крутил деревянную мельницу, размалывающую насущный, мирный хлеб'"
   ]
  },
  {
   "cell_type": "code",
   "execution_count": 54,
   "metadata": {},
   "outputs": [
    {
     "name": "stdout",
     "output_type": "stream",
     "text": [
      "200\n"
     ]
    },
    {
     "data": {
      "text/plain": [
       "'<?xml version=\"1.0\" encoding=\"utf-8\"?>\\n<SpellResult><error code=\"1\" pos=\"218\" row=\"0\" col=\"218\" len=\"7\"><word>вееетер</word><s>ветер</s></error></SpellResult>'"
      ]
     },
     "execution_count": 54,
     "metadata": {},
     "output_type": "execute_result"
    }
   ],
   "source": [
    "params = {'text':text}\n",
    "res = requests.get('https://speller.yandex.net/services/spellservice/checkText', params=params)\n",
    "print(res.status_code)\n",
    "res.text"
   ]
  },
  {
   "cell_type": "markdown",
   "metadata": {},
   "source": [
    "### Metrics "
   ]
  },
  {
   "cell_type": "code",
   "execution_count": 76,
   "metadata": {},
   "outputs": [],
   "source": [
    "from difflib import SequenceMatcher"
   ]
  },
  {
   "cell_type": "markdown",
   "metadata": {},
   "source": [
    "#### Levenshtein Distance"
   ]
  },
  {
   "cell_type": "code",
   "execution_count": 57,
   "metadata": {},
   "outputs": [],
   "source": [
    "import jellyfish"
   ]
  },
  {
   "cell_type": "markdown",
   "metadata": {},
   "source": [
    "\n",
    "- Levenshtein Distance\n",
    "- Damerau-Levenshtein Distance\n",
    "- Jaro Distance\n",
    "- Jaro-Winkler Distance\n",
    "- Match Rating Approach Comparison\n",
    "- Hamming Distance\n"
   ]
  },
  {
   "cell_type": "code",
   "execution_count": 58,
   "metadata": {},
   "outputs": [
    {
     "data": {
      "text/plain": [
       "2"
      ]
     },
     "execution_count": 58,
     "metadata": {},
     "output_type": "execute_result"
    }
   ],
   "source": [
    "jellyfish.levenshtein_distance(u'Сережа', u'Береза')"
   ]
  },
  {
   "cell_type": "markdown",
   "metadata": {},
   "source": [
    "### Jaccard distance "
   ]
  },
  {
   "cell_type": "code",
   "execution_count": 72,
   "metadata": {},
   "outputs": [],
   "source": [
    "a = [1,2,3]\n",
    "b = [1,4,5]"
   ]
  },
  {
   "cell_type": "code",
   "execution_count": 65,
   "metadata": {},
   "outputs": [],
   "source": [
    "def jaccard(a, b):\n",
    "    pass"
   ]
  },
  {
   "cell_type": "code",
   "execution_count": 66,
   "metadata": {},
   "outputs": [
    {
     "data": {
      "text/plain": [
       "0.6"
      ]
     },
     "execution_count": 66,
     "metadata": {},
     "output_type": "execute_result"
    }
   ],
   "source": [
    "jaccard(a,b)"
   ]
  },
  {
   "cell_type": "markdown",
   "metadata": {},
   "source": [
    "### Cosine"
   ]
  },
  {
   "cell_type": "code",
   "execution_count": 70,
   "metadata": {},
   "outputs": [],
   "source": [
    "from scipy.spatial.distance import cosine\n",
    "import numpy as np"
   ]
  },
  {
   "cell_type": "code",
   "execution_count": 75,
   "metadata": {},
   "outputs": [
    {
     "data": {
      "text/plain": [
       "0.010256681389212985"
      ]
     },
     "execution_count": 75,
     "metadata": {},
     "output_type": "execute_result"
    }
   ],
   "source": [
    "cosine(a, b)"
   ]
  },
  {
   "cell_type": "markdown",
   "metadata": {},
   "source": [
    "#### Самостоятельная работа."
   ]
  },
  {
   "cell_type": "markdown",
   "metadata": {},
   "source": [
    "Данные data.tsv - вопросы с StackOverflow.\n",
    "\n",
    "Одна строка - один вопрос.\n",
    "\n",
    "Ответить на вопросы: \n",
    "- Два самых близких текста по Жакару, Левинштайну, Косинусному расстоянию.\n",
    "- Найти тексты, в которых: больше всего существительных, прилагательных, глаголов. \n",
    "- Найти тексты самые близкие по трем расстояниям и найти разницу, что и как ищется. "
   ]
  }
 ],
 "metadata": {
  "kernelspec": {
   "display_name": "Python 3",
   "language": "python",
   "name": "python3"
  },
  "language_info": {
   "codemirror_mode": {
    "name": "ipython",
    "version": 3
   },
   "file_extension": ".py",
   "mimetype": "text/x-python",
   "name": "python",
   "nbconvert_exporter": "python",
   "pygments_lexer": "ipython3",
   "version": "3.7.4"
  }
 },
 "nbformat": 4,
 "nbformat_minor": 4
}
