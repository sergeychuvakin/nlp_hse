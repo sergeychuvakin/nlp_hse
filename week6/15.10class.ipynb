{
 "cells": [
  {
   "cell_type": "markdown",
   "metadata": {},
   "source": [
    "### IMDB Movie Review Data"
   ]
  },
  {
   "cell_type": "code",
   "execution_count": null,
   "metadata": {},
   "outputs": [],
   "source": [
    "import pandas as pd \n",
    "data = pd.read_csv('imdb_master.csv',encoding=\"latin-1\")\n",
    "\n",
    "train_data = data[data['type']=='train'].reset_index(drop=True)\n",
    "train_data = train_data[:1000]"
   ]
  },
  {
   "cell_type": "markdown",
   "metadata": {},
   "source": [
    "#### Pipeline\n",
    "---\n",
    "1) read data <br>\n",
    "2) preprocessing<br>\n",
    "3) get sentences<br>\n",
    "4) find counts/probabilities of bigrams/trigrams<br>\n",
    "5) generate text until last two token are (text[-2:] = [None, None])"
   ]
  },
  {
   "cell_type": "code",
   "execution_count": null,
   "metadata": {},
   "outputs": [],
   "source": [
    "from nltk import bigrams, trigrams\n",
    "from collections import Counter, defaultdict\n",
    "\n",
    "model = defaultdict(lambda: defaultdict(lambda: 0)) # model[(w1, w2)][w3]"
   ]
  }
 ],
 "metadata": {
  "kernelspec": {
   "display_name": "Python 3",
   "language": "python",
   "name": "python3"
  },
  "language_info": {
   "codemirror_mode": {
    "name": "ipython",
    "version": 3
   },
   "file_extension": ".py",
   "mimetype": "text/x-python",
   "name": "python",
   "nbconvert_exporter": "python",
   "pygments_lexer": "ipython3",
   "version": "3.7.4"
  }
 },
 "nbformat": 4,
 "nbformat_minor": 4
}
