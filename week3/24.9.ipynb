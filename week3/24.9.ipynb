{
 "cells": [
  {
   "cell_type": "markdown",
   "metadata": {},
   "source": [
    "### REGEX"
   ]
  },
  {
   "cell_type": "markdown",
   "metadata": {},
   "source": [
    "[cheatsheet + sandbox](https://regexr.com/)"
   ]
  },
  {
   "cell_type": "code",
   "execution_count": 2,
   "metadata": {},
   "outputs": [
    {
     "name": "stdout",
     "output_type": "stream",
     "text": [
      "<function match at 0x7f353b7399e0>\n",
      "<function search at 0x7f353b73fef0>\n",
      "<function findall at 0x7f353b700050>\n",
      "<function sub at 0x7f353b6fde60>\n"
     ]
    }
   ],
   "source": [
    "import re\n",
    "\n",
    "print(re.match) # берет шаблон, берет строку и проверяет подходит ли строка под шаблон(начиная с 0го символа)\n",
    "print(re.search) # находит первую подстроку, которая подходит под наш шаблон \n",
    "print(re.findall) # будет находить все подстроки нашей строки, которые подходят под наш шаблон \n",
    "print(re.sub) # заменить все вхождения подстрок которые подходят под наш шаблол чем нибудь другим"
   ]
  },
  {
   "cell_type": "code",
   "execution_count": 3,
   "metadata": {},
   "outputs": [
    {
     "name": "stdout",
     "output_type": "stream",
     "text": [
      "<re.Match object; span=(3, 6), match='abc'>\n"
     ]
    }
   ],
   "source": [
    "pattern = r'a[acb]c' # запись означает, что вторым символов может быть a b c \n",
    "string = 'bbbabcсссabcabc'\n",
    "match_obj = re.search(pattern, string)\n",
    "print(match_obj)"
   ]
  },
  {
   "cell_type": "code",
   "execution_count": 4,
   "metadata": {},
   "outputs": [
    {
     "name": "stdout",
     "output_type": "stream",
     "text": [
      "['abc', 'acc', 'aac']\n"
     ]
    }
   ],
   "source": [
    "pattern = r'a[acb]c' # запись означает, что вторым символов может быть a b c \n",
    "string = 'abc, acc, aac'\n",
    "all_inclusions = re.findall(pattern, string)\n",
    "print(all_inclusions) # возвращается список"
   ]
  },
  {
   "cell_type": "code",
   "execution_count": 5,
   "metadata": {},
   "outputs": [
    {
     "name": "stdout",
     "output_type": "stream",
     "text": [
      "'abc, abc, abc'\n"
     ]
    }
   ],
   "source": [
    "pattern = r'a[acb]c' # запись означает, что вторым символов может быть a b c \n",
    "string = 'abc, acc, aac'\n",
    "fixed_typos = re.sub(pattern,'abc', string) # второй аргумент, на что надо заменить найденный шаблон\n",
    "print(repr(fixed_typos))"
   ]
  },
  {
   "cell_type": "markdown",
   "metadata": {},
   "source": [
    "### Exercises"
   ]
  },
  {
   "cell_type": "markdown",
   "metadata": {},
   "source": [
    "#### 1\n",
    "Найти все домены и получить лист доменов"
   ]
  },
  {
   "cell_type": "code",
   "execution_count": 7,
   "metadata": {},
   "outputs": [],
   "source": [
    "l = ['https://www.hackerrank.com', 'https://regexr.com/', 'https://stepic.org', 'https://en.wikipedia.org']"
   ]
  },
  {
   "cell_type": "code",
   "execution_count": 15,
   "metadata": {},
   "outputs": [],
   "source": [
    "### code"
   ]
  },
  {
   "cell_type": "markdown",
   "metadata": {},
   "source": [
    "#### 2\n",
    "Найти имена и номера телефонов и представить в виде списка кортежей, где первое значение имя, второе номер телефона. "
   ]
  },
  {
   "cell_type": "code",
   "execution_count": 19,
   "metadata": {},
   "outputs": [],
   "source": [
    "t = 'Петя +79897776655, Маша +89997775642 Regression_Discontinuity_Design '"
   ]
  },
  {
   "cell_type": "code",
   "execution_count": null,
   "metadata": {},
   "outputs": [],
   "source": [
    "### code"
   ]
  },
  {
   "cell_type": "markdown",
   "metadata": {},
   "source": [
    "#### 3\n",
    "Вытащить текст на русском языке."
   ]
  },
  {
   "cell_type": "code",
   "execution_count": null,
   "metadata": {},
   "outputs": [],
   "source": [
    "'''On me dit de me souvenir de l'idée et non de l'homme, parce que l'homme peut échouer, il peut être arrêté, \n",
    "il peut être exécuté et tomber dans l'oubli alors qu'après 400 ans, une idée peut encore changer le monde. \n",
    "Je connais d'expérience le pouvoir des idées. J'ai vu des hommes tués en leurs noms... et mourir en les défendant. \n",
    "Mais on ne peut embrasser une idée. On ne peut la toucher ou la serrer contre soi. Les idées ne saignent pas, elles \n",
    "ne ressentent pas la douleur... et elles ne peuvent aimer.\n",
    "\n",
    " В  пять часов утра,  как всегда, пробило подъем  -- молотком об рельс у\n",
    "штабного барака.  Перерывистый  звон слабо прошел сквозь стекла, намерзшие в\n",
    "два пальца, и  скоро затих: холодно было,  и надзирателю  неохота была долго\n",
    "рукой махать.\n",
    "     Звон утих, а за окном все так же, как и среди ночи, когда Шухов вставал\n",
    "к параше, была  тьма и тьма, да попадало в окно три желтых фонаря: два -- на\n",
    "зоне, один -- внутри лагеря.'''"
   ]
  },
  {
   "cell_type": "code",
   "execution_count": null,
   "metadata": {},
   "outputs": [],
   "source": [
    "### code"
   ]
  },
  {
   "cell_type": "markdown",
   "metadata": {},
   "source": [
    "### BS4"
   ]
  },
  {
   "cell_type": "code",
   "execution_count": 23,
   "metadata": {},
   "outputs": [],
   "source": [
    "import requests\n",
    "from bs4 import BeautifulSoup"
   ]
  },
  {
   "cell_type": "code",
   "execution_count": 24,
   "metadata": {},
   "outputs": [],
   "source": [
    "page = requests.get('https://www.kinopoisk.ru/film/1047883/').text"
   ]
  },
  {
   "cell_type": "code",
   "execution_count": 25,
   "metadata": {},
   "outputs": [],
   "source": [
    "soup = BeautifulSoup(page, 'html.parser')"
   ]
  },
  {
   "cell_type": "code",
   "execution_count": 34,
   "metadata": {},
   "outputs": [],
   "source": [
    "#[i.getText() for i in soup.find_all('span', {\"class\": \"_reachbanner_\"})]\n",
    "#soup.select('#ext_text_2832049 > span:nth-child(1)')"
   ]
  },
  {
   "cell_type": "markdown",
   "metadata": {},
   "source": [
    "#### Exercise 1 \n",
    "Вытянуть цитаты с первых двух страниц создать датафрейм, где колонки будут цитата, автор\n",
    "\n",
    "http://quotes.toscrape.com/\n"
   ]
  },
  {
   "cell_type": "markdown",
   "metadata": {},
   "source": [
    "### Selenium"
   ]
  },
  {
   "cell_type": "code",
   "execution_count": 38,
   "metadata": {},
   "outputs": [],
   "source": [
    "from selenium import webdriver"
   ]
  },
  {
   "cell_type": "code",
   "execution_count": 39,
   "metadata": {},
   "outputs": [],
   "source": [
    "url =  '...'\n",
    "\n",
    "driver = webdriver.Firefox(executable_path='/home/serge/Desktop/lections/re_scrap/geckodriver')\n",
    "\n",
    "driver.get(url)"
   ]
  },
  {
   "cell_type": "code",
   "execution_count": null,
   "metadata": {},
   "outputs": [],
   "source": [
    "# clicks\n",
    "reg = driver.find_element_by_xpath(\"...\")\n",
    "\n",
    "reg.click()"
   ]
  },
  {
   "cell_type": "code",
   "execution_count": null,
   "metadata": {},
   "outputs": [],
   "source": [
    "# window switcher \n",
    "window_after = driver.window_handles[1]\n",
    "driver.switch_to_window(window_after)"
   ]
  },
  {
   "cell_type": "code",
   "execution_count": null,
   "metadata": {},
   "outputs": [],
   "source": [
    "# send login assets\n",
    "username = driver.find_element_by_xpath('//*[@id=\"username\"]')\n",
    "password = driver.find_element_by_xpath('//*[@id=\"password\"]')\n",
    "\n",
    "username.send_keys(\"...\")\n",
    "password.send_keys(\"...\")\n",
    "somefield.clear() # очистить"
   ]
  },
  {
   "cell_type": "code",
   "execution_count": null,
   "metadata": {},
   "outputs": [],
   "source": [
    "# перезагрузить страницу \n",
    "driver.refresh()"
   ]
  },
  {
   "cell_type": "markdown",
   "metadata": {},
   "source": []
  },
  {
   "cell_type": "markdown",
   "metadata": {},
   "source": [
    "### Exercise \n",
    "Проделать то же самое с селениумом, что и с bs4"
   ]
  },
  {
   "cell_type": "markdown",
   "metadata": {},
   "source": [
    "### Optional "
   ]
  },
  {
   "cell_type": "markdown",
   "metadata": {},
   "source": [
    "как устроен роспотребназор http://zpp.rospotrebnadzor.ru/Forum/Appeals"
   ]
  }
 ],
 "metadata": {
  "kernelspec": {
   "display_name": "Python 3",
   "language": "python",
   "name": "python3"
  },
  "language_info": {
   "codemirror_mode": {
    "name": "ipython",
    "version": 3
   },
   "file_extension": ".py",
   "mimetype": "text/x-python",
   "name": "python",
   "nbconvert_exporter": "python",
   "pygments_lexer": "ipython3",
   "version": "3.7.4"
  }
 },
 "nbformat": 4,
 "nbformat_minor": 4
}
