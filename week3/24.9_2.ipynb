{
 "cells": [
  {
   "cell_type": "markdown",
   "metadata": {},
   "source": [
    "### REGEX"
   ]
  },
  {
   "cell_type": "markdown",
   "metadata": {},
   "source": [
    "[cheatsheet + sandbox](https://regexr.com/)"
   ]
  },
  {
   "cell_type": "code",
   "execution_count": 2,
   "metadata": {},
   "outputs": [
    {
     "name": "stdout",
     "output_type": "stream",
     "text": [
      "<function match at 0x7f353b7399e0>\n",
      "<function search at 0x7f353b73fef0>\n",
      "<function findall at 0x7f353b700050>\n",
      "<function sub at 0x7f353b6fde60>\n"
     ]
    }
   ],
   "source": [
    "import re\n",
    "\n",
    "print(re.match) # берет шаблон, берет строку и проверяет подходит ли строка под шаблон(начиная с 0го символа)\n",
    "print(re.search) # находит первую подстроку, которая подходит под наш шаблон \n",
    "print(re.findall) # будет находить все подстроки нашей строки, которые подходят под наш шаблон \n",
    "print(re.sub) # заменить все вхождения подстрок которые подходят под наш шаблол чем нибудь другим"
   ]
  },
  {
   "cell_type": "code",
   "execution_count": 3,
   "metadata": {},
   "outputs": [
    {
     "name": "stdout",
     "output_type": "stream",
     "text": [
      "<re.Match object; span=(3, 6), match='abc'>\n"
     ]
    }
   ],
   "source": [
    "pattern = r'a[acb]c' # запись означает, что вторым символов может быть a b c \n",
    "string = 'bbbabcсссabcabc'\n",
    "match_obj = re.search(pattern, string)\n",
    "print(match_obj)"
   ]
  },
  {
   "cell_type": "code",
   "execution_count": 4,
   "metadata": {},
   "outputs": [
    {
     "name": "stdout",
     "output_type": "stream",
     "text": [
      "['abc', 'acc', 'aac']\n"
     ]
    }
   ],
   "source": [
    "pattern = r'a[acb]c' # запись означает, что вторым символов может быть a b c \n",
    "string = 'abc, acc, aac'\n",
    "all_inclusions = re.findall(pattern, string)\n",
    "print(all_inclusions) # возвращается список"
   ]
  },
  {
   "cell_type": "code",
   "execution_count": 5,
   "metadata": {},
   "outputs": [
    {
     "name": "stdout",
     "output_type": "stream",
     "text": [
      "'abc, abc, abc'\n"
     ]
    }
   ],
   "source": [
    "pattern = r'a[acb]c' # запись означает, что вторым символов может быть a b c \n",
    "string = 'abc, acc, aac'\n",
    "fixed_typos = re.sub(pattern,'abc', string) # второй аргумент, на что надо заменить найденный шаблон\n",
    "print(repr(fixed_typos))"
   ]
  },
  {
   "cell_type": "markdown",
   "metadata": {},
   "source": [
    "### Exercises"
   ]
  },
  {
   "cell_type": "markdown",
   "metadata": {},
   "source": [
    "#### 1\n",
    "Найти все домены и получить лист доменов"
   ]
  },
  {
   "cell_type": "code",
   "execution_count": 10,
   "metadata": {
    "collapsed": true
   },
   "outputs": [],
   "source": [
    "l = ['https://www.hackerrank.com', 'https://regexr.com/', 'https://stepic.org', 'https://en.wikipedia.org']"
   ]
  },
  {
   "cell_type": "code",
   "execution_count": 12,
   "metadata": {},
   "outputs": [
    {
     "data": {
      "text/plain": [
       "['hackerrank', 'regexr', 'stepic', 'wikipedia']"
      ]
     },
     "execution_count": 12,
     "metadata": {},
     "output_type": "execute_result"
    }
   ],
   "source": [
    "### code\n",
    "def foo(t):\n",
    "    return re.findall(r'https://(en\\.|www\\.)?(.+)\\.', t)[0][1]\n",
    "list(map(foo, l))\n",
    "# for i in l: \n",
    "#     re.findall(i)\n",
    "# [foo(i) for i in l]"
   ]
  },
  {
   "cell_type": "markdown",
   "metadata": {},
   "source": [
    "#### 2\n",
    "Найти имена и номера телефонов и представить в виде списка кортежей, где первое значение имя, второе номер телефона. "
   ]
  },
  {
   "cell_type": "code",
   "execution_count": 13,
   "metadata": {
    "collapsed": true
   },
   "outputs": [],
   "source": [
    "t = 'Петя +79897776655, Маша +89997775642 Regression_Discontinuity_Design '"
   ]
  },
  {
   "cell_type": "code",
   "execution_count": 16,
   "metadata": {},
   "outputs": [
    {
     "data": {
      "text/plain": [
       "[('Петя', '+79897776655'), ('Маша', '+89997775642')]"
      ]
     },
     "execution_count": 16,
     "metadata": {},
     "output_type": "execute_result"
    }
   ],
   "source": [
    "### code\n",
    "re.findall(r'([А-я]+)\\s?(\\+[\\d]{11})', t)"
   ]
  },
  {
   "cell_type": "markdown",
   "metadata": {},
   "source": [
    "#### 3\n",
    "Вытащить текст на русском языке."
   ]
  },
  {
   "cell_type": "code",
   "execution_count": 17,
   "metadata": {
    "collapsed": true
   },
   "outputs": [],
   "source": [
    "tt = '''On me dit de me souvenir de l'idée et non de l'homme, parce que l'homme peut échouer, il peut être arrêté, \n",
    "il peut être exécuté et tomber dans l'oubli alors qu'après 400 ans, une idée peut encore changer le monde. \n",
    "Je connais d'expérience le pouvoir des idées. J'ai vu des hommes tués en leurs noms... et mourir en les défendant. \n",
    "Mais on ne peut embrasser une idée. On ne peut la toucher ou la serrer contre soi. Les idées ne saignent pas, elles \n",
    "ne ressentent pas la douleur... et elles ne peuvent aimer.\n",
    "\n",
    " В  пять часов утра,  как всегда, пробило подъем  -- молотком об рельс у\n",
    "штабного барака.  Перерывистый  звон слабо прошел сквозь стекла, намерзшие в\n",
    "два пальца, и  скоро затих: холодно было,  и надзирателю  неохота была долго\n",
    "рукой махать.\n",
    "     Звон утих, а за окном все так же, как и среди ночи, когда Шухов вставал\n",
    "к параше, была  тьма и тьма, да попадало в окно три желтых фонаря: два -- на\n",
    "зоне, один -- внутри лагеря.'''"
   ]
  },
  {
   "cell_type": "code",
   "execution_count": 19,
   "metadata": {},
   "outputs": [
    {
     "data": {
      "text/plain": [
       "'В  пять часов утра,  как всегда, пробило подъем  -- молотком об рельс  штабного барака.  Перерывистый  звон слабо прошел сквозь стекла, намерзшие  два пальца, и  скоро затих: холодно было,  и надзирателю  неохота была долго рукой махать. Звон утих, а за окном все так же, как и среди ночи, когда Шухов вставал к параше, была  тьма и тьма, да попадало в окно три желтых фонаря: два -- на зоне, один -- внутри лагеря.'"
      ]
     },
     "execution_count": 19,
     "metadata": {},
     "output_type": "execute_result"
    }
   ],
   "source": [
    "### code\n",
    "' '.join(re.findall(r'[А-Яа-я].+[А-яа-я].', tt))"
   ]
  },
  {
   "cell_type": "markdown",
   "metadata": {},
   "source": [
    "### BS4"
   ]
  },
  {
   "cell_type": "code",
   "execution_count": 4,
   "metadata": {
    "collapsed": true
   },
   "outputs": [],
   "source": [
    "import requests\n",
    "from bs4 import BeautifulSoup"
   ]
  },
  {
   "cell_type": "code",
   "execution_count": 20,
   "metadata": {
    "collapsed": true
   },
   "outputs": [],
   "source": [
    "page = requests.get('https://www.kinopoisk.ru/film/1047883/')"
   ]
  },
  {
   "cell_type": "code",
   "execution_count": 26,
   "metadata": {
    "collapsed": true,
    "scrolled": true
   },
   "outputs": [],
   "source": [
    "soup = BeautifulSoup(page.text, 'html.parser')  d"
   ]
  },
  {
   "cell_type": "code",
   "execution_count": 36,
   "metadata": {
    "scrolled": true
   },
   "outputs": [
    {
     "data": {
      "text/plain": [
       "'1960-е\\xa0\\x97\\xa0время радикальных, новых, захватывающих открытий и\\xa0тенденций, которые продолжили развиваться в\\xa070, 80, 90-х годах XX\\xa0века. Время где\\xa0на одной улице можно увидеть знаменитость и\\xa0обдолбанных хиппи. Фильм, как\\xa0и многие из\\xa0коллекции Тарантино представлен эмоциональным всплеском событий. Здесь тебе и\\xa0малолетки, стремящиеся жить «по-взрослому», и\\xa0знаменитые кадры босых стоп, перестрелки с\\xa0кровью и\\xa0потом и\\xa0конечно же\\xa0много алкоголя и\\xa0табака. \\n\\r\\nВ данной картине, впервые, мы\\xa0видим нестандартные для\\xa0нашего привычного взгляда кадры\\xa0\\x97\\xa0пустой бесполезный сюжет, который мы\\xa0сами наполняем смыслом, безумная четкость кадров и\\xa0волнующая игра актеров. Ни\\xa0единого промаха. Безупречная работа. Но\\xa0почему половина людей выходит из\\xa0зала еще\\xa0в середине просмотра? Кажется знаменитый режиссер просто забил буй\\xa0и пустил сценарий на\\xa0самотек\\xa0\\x97\\xa0говорят прохожие. Но, все\\xa0куда эпичнее. Великий Квентин лишь доказал, что\\xa0фильм «не для\\xa0всех». Что\\xa0можно сделать шедевр без\\xa0смысла, а\\xa0игру героев сделать еще\\xa0круче, чем\\xa0в самой остросюжетной ленте из\\xa0оскороносных. \\n\\r\\nРазделение на\\xa0красных и\\xa0белых\\xa0\\x97\\xa0нормальное явление. Если Вы\\xa0любите что-то нестандартное\\xa0\\x97\\xa0вы точно из\\xa0красных)) А\\xa0значит удовольствие от\\xa0просмотра, Вам\\xa0обеспечено также, как\\xa0и мне) Твердая\\n\\r\\n 9\\xa0из 10'"
      ]
     },
     "execution_count": 36,
     "metadata": {},
     "output_type": "execute_result"
    }
   ],
   "source": [
    "[i.text for i in soup.find_all('span', {'class':'_reachbanner_'})][1]"
   ]
  },
  {
   "cell_type": "code",
   "execution_count": 25,
   "metadata": {
    "collapsed": true
   },
   "outputs": [],
   "source": [
    "soup = BeautifulSoup(page, 'html.parser')"
   ]
  },
  {
   "cell_type": "code",
   "execution_count": 34,
   "metadata": {
    "collapsed": true
   },
   "outputs": [],
   "source": [
    "#[i.getText() for i in soup.find_all('span', {\"class\": \"_reachbanner_\"})]\n",
    "soup.select('#ext_text_2832049 > span:nth-child(1)')"
   ]
  },
  {
   "cell_type": "markdown",
   "metadata": {},
   "source": [
    "#### Exercise 1 \n",
    "Вытянуть цитаты с первых двух страниц создать датафрейм, где колонки будут цитата, автор\n",
    "\n",
    "http://quotes.toscrape.com/\n"
   ]
  },
  {
   "cell_type": "markdown",
   "metadata": {},
   "source": [
    "### Selenium"
   ]
  },
  {
   "cell_type": "code",
   "execution_count": 42,
   "metadata": {
    "collapsed": true
   },
   "outputs": [],
   "source": [
    "from selenium import webdriver"
   ]
  },
  {
   "cell_type": "code",
   "execution_count": 51,
   "metadata": {},
   "outputs": [],
   "source": [
    "url = r'https://www.kinopoisk.ru/film/1047883/'\n",
    "\n",
    "driver = webdriver.Chrome(executable_path='./chromedriver.exe')\n",
    "\n",
    "driver.get(url)"
   ]
  },
  {
   "cell_type": "code",
   "execution_count": 52,
   "metadata": {
    "collapsed": true
   },
   "outputs": [],
   "source": [
    "# clicks\n",
    "quentin = driver.find_element_by_xpath('//*[@id=\"infoTable\"]/table/tbody/tr[4]/td[2]/a')"
   ]
  },
  {
   "cell_type": "code",
   "execution_count": 54,
   "metadata": {},
   "outputs": [
    {
     "data": {
      "text/plain": [
       "'Квентин Тарантино'"
      ]
     },
     "execution_count": 54,
     "metadata": {},
     "output_type": "execute_result"
    }
   ],
   "source": [
    "quentin.text"
   ]
  },
  {
   "cell_type": "code",
   "execution_count": 55,
   "metadata": {
    "collapsed": true
   },
   "outputs": [],
   "source": [
    "quentin.click()"
   ]
  },
  {
   "cell_type": "code",
   "execution_count": null,
   "metadata": {
    "collapsed": true
   },
   "outputs": [],
   "source": [
    "# window switcher \n",
    "window_after = driver.window_handles[1]\n",
    "driver.switch_to_window(window_after)"
   ]
  },
  {
   "cell_type": "code",
   "execution_count": null,
   "metadata": {
    "collapsed": true
   },
   "outputs": [],
   "source": [
    "# send login assets\n",
    "username = driver.find_element_by_xpath('//*[@id=\"username\"]')\n",
    "password = driver.find_element_by_xpath('//*[@id=\"password\"]')\n",
    "\n",
    "username.send_keys(\"...\")\n",
    "password.send_keys(\"...\")\n",
    "somefield.clear() # очистить"
   ]
  },
  {
   "cell_type": "code",
   "execution_count": null,
   "metadata": {
    "collapsed": true
   },
   "outputs": [],
   "source": [
    "# перезагрузить страницу \n",
    "driver.refresh()"
   ]
  },
  {
   "cell_type": "markdown",
   "metadata": {},
   "source": []
  },
  {
   "cell_type": "code",
   "execution_count": null,
   "metadata": {
    "collapsed": true
   },
   "outputs": [],
   "source": []
  },
  {
   "cell_type": "markdown",
   "metadata": {},
   "source": [
    "### Exercise \n",
    "Проделать то же самое с селениумом, что и с bs4"
   ]
  },
  {
   "cell_type": "markdown",
   "metadata": {},
   "source": [
    "### Optional "
   ]
  },
  {
   "cell_type": "markdown",
   "metadata": {},
   "source": [
    "как устроен роспотребназор http://zpp.rospotrebnadzor.ru/Forum/Appeals"
   ]
  }
 ],
 "metadata": {
  "kernelspec": {
   "display_name": "Python 3",
   "language": "python",
   "name": "python3"
  },
  "language_info": {
   "codemirror_mode": {
    "name": "ipython",
    "version": 3
   },
   "file_extension": ".py",
   "mimetype": "text/x-python",
   "name": "python",
   "nbconvert_exporter": "python",
   "pygments_lexer": "ipython3",
   "version": "3.6.3"
  }
 },
 "nbformat": 4,
 "nbformat_minor": 4
}
